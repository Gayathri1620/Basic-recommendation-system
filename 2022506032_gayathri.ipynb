{
  "nbformat": 4,
  "nbformat_minor": 0,
  "metadata": {
    "colab": {
      "provenance": [],
      "gpuType": "T4",
      "toc_visible": true
    },
    "kernelspec": {
      "name": "python3",
      "display_name": "Python 3"
    },
    "language_info": {
      "name": "python"
    },
    "accelerator": "GPU"
  },
  "cells": [
    {
      "cell_type": "markdown",
      "source": [
        "# **MOVIE RECOMMENDATION SYSTEM**"
      ],
      "metadata": {
        "id": "mzm_NuGXqQ5k"
      }
    },
    {
      "cell_type": "markdown",
      "source": [
        "In this recommendation system, we will load the dataset and necessary libraries once, create a class for each of the three models and recommend three movies per model."
      ],
      "metadata": {
        "id": "q80wNUNfqc38"
      }
    },
    {
      "cell_type": "markdown",
      "source": [
        "**Installing libraries and datasets:**"
      ],
      "metadata": {
        "id": "Dr9Ho9OEuIXx"
      }
    },
    {
      "cell_type": "code",
      "source": [
        "!pip install -q tensorflow-recommenders\n",
        "!pip install -q --upgrade tensorflow-datasets\n"
      ],
      "metadata": {
        "id": "dS7NB6y3uS9A"
      },
      "execution_count": 64,
      "outputs": []
    },
    {
      "cell_type": "markdown",
      "source": [
        "**Importing the necessary header files:**\n",
        "\n"
      ],
      "metadata": {
        "id": "KiaKW9IUuZ_w"
      }
    },
    {
      "cell_type": "code",
      "source": [
        "from typing import Dict, Text\n",
        "\n",
        "import numpy as np\n",
        "import tensorflow as tf\n",
        "\n",
        "import tensorflow_datasets as tfds\n",
        "import tensorflow_recommenders as tfrs\n",
        "\n",
        "import matplotlib.pyplot as plt\n",
        "import networkx as nx\n"
      ],
      "metadata": {
        "id": "bCDji7EUucv1"
      },
      "execution_count": 65,
      "outputs": []
    },
    {
      "cell_type": "markdown",
      "source": [
        "**Loading the required data:**"
      ],
      "metadata": {
        "id": "Xm35lfRJufVX"
      }
    },
    {
      "cell_type": "markdown",
      "source": [
        "Read the dataset and store only the essential parameters as nested dictionaries in variables ratings and movies"
      ],
      "metadata": {
        "id": "SC7TP1ybsoX6"
      }
    },
    {
      "cell_type": "code",
      "source": [
        "# Load ratings and movies data.\n",
        "ratings = tfds.load('movielens/100k-ratings', split=\"train\")\n",
        "movies = tfds.load('movielens/100k-movies', split=\"train\")\n",
        "\n",
        "# Select basic features.\n",
        "ratings = ratings.map(lambda x: {\n",
        "    \"movie_title\": x[\"movie_title\"],\n",
        "    \"user_id\": x[\"user_id\"],\n",
        "    \"rating\": x[\"user_rating\"]\n",
        "})\n",
        "movies = movies.map(lambda x: x[\"movie_title\"])\n"
      ],
      "metadata": {
        "id": "MhP30oY_uiiz"
      },
      "execution_count": 66,
      "outputs": []
    },
    {
      "cell_type": "markdown",
      "source": [
        "**Build vocabularies:**"
      ],
      "metadata": {
        "id": "wf-DidBuulfk"
      }
    },
    {
      "cell_type": "code",
      "source": [
        "# Setup StringLookup layers.\n",
        "user_ids_vocabulary = tf.keras.layers.StringLookup(mask_token=None)\n",
        "user_ids_vocabulary.adapt(ratings.map(lambda x: x[\"user_id\"]))\n",
        "\n",
        "movie_titles_vocabulary = tf.keras.layers.StringLookup(mask_token=None)\n",
        "movie_titles_vocabulary.adapt(movies)\n"
      ],
      "metadata": {
        "id": "Gc52FtQ3uoH8"
      },
      "execution_count": 67,
      "outputs": []
    },
    {
      "cell_type": "markdown",
      "source": [
        "**Define User and Movie Models:**"
      ],
      "metadata": {
        "id": "jDNYD0coutxx"
      }
    },
    {
      "cell_type": "code",
      "source": [
        "# Define user and movie models with StringLookup and Embedding layers.\n",
        "user_model = tf.keras.Sequential([\n",
        "    user_ids_vocabulary,\n",
        "    tf.keras.layers.Embedding(user_ids_vocabulary.vocab_size(), 64)\n",
        "])\n",
        "movie_model = tf.keras.Sequential([\n",
        "    movie_titles_vocabulary,\n",
        "    tf.keras.layers.Embedding(movie_titles_vocabulary.vocab_size(), 64)\n",
        "])\n",
        "\n",
        "# Define retrieval task.\n",
        "task = tfrs.tasks.Retrieval(metrics=tfrs.metrics.FactorizedTopK(\n",
        "    movies.batch(128).map(movie_model)\n",
        "))\n"
      ],
      "metadata": {
        "colab": {
          "base_uri": "https://localhost:8080/"
        },
        "id": "BeZhxadcu1nv",
        "outputId": "5458f6de-6f57-47c4-ecc6-6d8dfa1ebeb7"
      },
      "execution_count": 68,
      "outputs": [
        {
          "output_type": "stream",
          "name": "stderr",
          "text": [
            "WARNING:tensorflow:vocab_size is deprecated, please use vocabulary_size.\n",
            "WARNING:tensorflow:vocab_size is deprecated, please use vocabulary_size.\n"
          ]
        }
      ]
    },
    {
      "cell_type": "markdown",
      "source": [
        "# **RECOMMENDATION SYSTEM 1: RNN-based Collaborative Filtering Model**"
      ],
      "metadata": {
        "id": "9g4tEbtUu6Ht"
      }
    },
    {
      "cell_type": "markdown",
      "source": [
        "**Class definition for this model:**"
      ],
      "metadata": {
        "id": "5ist3Ll8vo_Q"
      }
    },
    {
      "cell_type": "code",
      "source": [
        "# Define the RNN-based collaborative filtering model.\n",
        "class RNNCollaborativeFilteringModel(tfrs.Model):\n",
        "\n",
        "    def __init__(self, user_model: tf.keras.layers.Layer, movie_model: tf.keras.layers.Layer, task: tfrs.tasks.Retrieval):\n",
        "        super().__init__()\n",
        "\n",
        "        # Set up user and movie models.\n",
        "        self.user_model = user_model\n",
        "        self.movie_model = movie_model\n",
        "\n",
        "        # Define the RNN layers.\n",
        "        self.user_rnn = tf.keras.layers.SimpleRNN(64)\n",
        "        self.movie_rnn = tf.keras.layers.SimpleRNN(64)\n",
        "\n",
        "        # Set up a retrieval task.\n",
        "        self.task = task\n",
        "\n",
        "    def compute_loss(self, features: Dict[Text, tf.Tensor], training=False) -> tf.Tensor:\n",
        "        # Compute user and movie embeddings using RNN.\n",
        "        user_embeddings = self.user_model(features[\"user_id\"])\n",
        "        movie_embeddings = self.movie_model(features[\"movie_title\"])\n",
        "\n",
        "        # Expand dimensions to fit RNN input requirements.\n",
        "        user_embeddings = tf.expand_dims(user_embeddings, axis=1)\n",
        "        movie_embeddings = tf.expand_dims(movie_embeddings, axis=1)\n",
        "\n",
        "        # Process embeddings through RNN layers.\n",
        "        user_rnn_output = self.user_rnn(user_embeddings)\n",
        "        movie_rnn_output = self.movie_rnn(movie_embeddings)\n",
        "\n",
        "        # Compute retrieval task loss.\n",
        "        return self.task(user_rnn_output, movie_rnn_output, compute_metrics=False)\n"
      ],
      "metadata": {
        "id": "nw5cXenmu_RK"
      },
      "execution_count": 10,
      "outputs": []
    },
    {
      "cell_type": "markdown",
      "source": [
        "**Compile and train the model**"
      ],
      "metadata": {
        "id": "ReQZgYG-v32P"
      }
    },
    {
      "cell_type": "code",
      "source": [
        "\n",
        "\n",
        "# Create RNN-based collaborative filtering model.\n",
        "rnn_model = RNNCollaborativeFilteringModel(user_model, movie_model, task)\n",
        "rnn_model.compile(optimizer=tf.keras.optimizers.Adagrad(0.5))\n",
        "\n",
        "# Train the model for 3 epochs.\n",
        "rnn_model.fit(ratings.batch(4096), epochs=3)\n",
        "\n",
        "# Use brute-force search to set up retrieval using the trained representations.\n",
        "rnn_index = tfrs.layers.factorized_top_k.BruteForce(rnn_model.user_model)\n",
        "rnn_index.index_from_dataset(\n",
        "    movies.batch(100).map(lambda title: (title, rnn_model.movie_model(title))))\n",
        "\n",
        "# Get recommendations for user \"42\"."
      ],
      "metadata": {
        "colab": {
          "base_uri": "https://localhost:8080/"
        },
        "id": "vbaoLx-vwC0Q",
        "outputId": "f3532fd6-de12-4550-cd43-91ef776b1670"
      },
      "execution_count": 11,
      "outputs": [
        {
          "output_type": "stream",
          "name": "stdout",
          "text": [
            "Epoch 1/3\n",
            "25/25 [==============================] - 15s 468ms/step - factorized_top_k/top_1_categorical_accuracy: 0.0000e+00 - factorized_top_k/top_5_categorical_accuracy: 0.0000e+00 - factorized_top_k/top_10_categorical_accuracy: 0.0000e+00 - factorized_top_k/top_50_categorical_accuracy: 0.0000e+00 - factorized_top_k/top_100_categorical_accuracy: 0.0000e+00 - loss: 60369.1570 - regularization_loss: 0.0000e+00 - total_loss: 60369.1570\n",
            "Epoch 2/3\n",
            "25/25 [==============================] - 13s 497ms/step - factorized_top_k/top_1_categorical_accuracy: 0.0000e+00 - factorized_top_k/top_5_categorical_accuracy: 0.0000e+00 - factorized_top_k/top_10_categorical_accuracy: 0.0000e+00 - factorized_top_k/top_50_categorical_accuracy: 0.0000e+00 - factorized_top_k/top_100_categorical_accuracy: 0.0000e+00 - loss: 40646.8035 - regularization_loss: 0.0000e+00 - total_loss: 40646.8035\n",
            "Epoch 3/3\n",
            "25/25 [==============================] - 14s 546ms/step - factorized_top_k/top_1_categorical_accuracy: 0.0000e+00 - factorized_top_k/top_5_categorical_accuracy: 0.0000e+00 - factorized_top_k/top_10_categorical_accuracy: 0.0000e+00 - factorized_top_k/top_50_categorical_accuracy: 0.0000e+00 - factorized_top_k/top_100_categorical_accuracy: 0.0000e+00 - loss: 37895.7729 - regularization_loss: 0.0000e+00 - total_loss: 37895.7729\n"
          ]
        },
        {
          "output_type": "execute_result",
          "data": {
            "text/plain": [
              "<tensorflow_recommenders.layers.factorized_top_k.BruteForce at 0x7ddae88f0580>"
            ]
          },
          "metadata": {},
          "execution_count": 11
        }
      ]
    },
    {
      "cell_type": "markdown",
      "source": [
        "**Get top 3 recommendations:**"
      ],
      "metadata": {
        "id": "KjMKX5TIvCAd"
      }
    },
    {
      "cell_type": "code",
      "source": [],
      "metadata": {
        "id": "T5XFKoroyCyQ"
      },
      "execution_count": null,
      "outputs": []
    },
    {
      "cell_type": "code",
      "source": [
        "_, rnn_titles = rnn_index(np.array([\"42\"]))\n",
        "print(\"Top 5 recommendations for user 42 from RNN model:\")\n",
        "for i, title in enumerate(rnn_titles[0, :5], 1):\n",
        "    print(f\"{i}. {title.numpy().decode('utf-8')}\")\n"
      ],
      "metadata": {
        "colab": {
          "base_uri": "https://localhost:8080/"
        },
        "id": "MiRWYY5HvE7_",
        "outputId": "5f360900-2bba-4190-adc8-18306343e7fd"
      },
      "execution_count": 29,
      "outputs": [
        {
          "output_type": "stream",
          "name": "stdout",
          "text": [
            "Top 5 recommendations for user 42 from RNN model:\n",
            "1. Juror, The (1996)\n",
            "2. Manchurian Candidate, The (1962)\n",
            "3. Another Stakeout (1993)\n",
            "4. Swimming with Sharks (1995)\n",
            "5. Things to Do in Denver when You're Dead (1995)\n"
          ]
        }
      ]
    },
    {
      "cell_type": "markdown",
      "source": [
        "**Graphical representation:**"
      ],
      "metadata": {
        "id": "R_kGhhGrvHTq"
      }
    },
    {
      "cell_type": "code",
      "source": [
        "# Get top 5 recommendations for RNN model\n",
        "user_id = \"42\"\n",
        "top_5_rnn_titles = [\"A\", \"B\", \"C\", \"D\", \"E\"]\n",
        "\n",
        "# Create graph for RNN model\n",
        "G_rnn = nx.Graph()\n",
        "G_rnn.add_node(user_id, label='user', color='blue')\n",
        "for movie in top_5_rnn_titles:\n",
        "    G_rnn.add_node(movie, label='movie', color='green')\n",
        "    G_rnn.add_edge(user_id, movie)\n",
        "\n",
        "# Set node colors for RNN model\n",
        "node_colors_rnn = [G_rnn.nodes[node]['color'] for node in G_rnn.nodes()]\n",
        "\n",
        "# Draw graph for RNN model\n",
        "plt.figure(figsize=(8, 5))\n",
        "pos_rnn = nx.spring_layout(G_rnn, k=0.5, iterations=50)\n",
        "nx.draw(G_rnn, pos_rnn, with_labels=True, labels={node: node for node in G_rnn.nodes()}, node_color=node_colors_rnn, font_weight='bold', node_size=1500)\n",
        "plt.title('Top 5 Movie Recommendations for User 42 (RNN Model)')\n",
        "plt.show()\n",
        "\n",
        "\n",
        "\n",
        "\n"
      ],
      "metadata": {
        "colab": {
          "base_uri": "https://localhost:8080/",
          "height": 559
        },
        "id": "YG8gLCb1vKoR",
        "outputId": "3e04a934-1702-4798-df79-841609f0f9a5"
      },
      "execution_count": 31,
      "outputs": [
        {
          "output_type": "display_data",
          "data": {
            "text/plain": [
              "<Figure size 800x500 with 1 Axes>"
            ],
            "image/png": "[encoded data removed]"
          },
          "metadata": {}
        }
      ]
    },
    {
      "cell_type": "markdown",
      "source": [
        "# **RECOMMENDATION SYSTEM 2: Content-based Model**"
      ],
      "metadata": {
        "id": "fQBzffpE2ckA"
      }
    },
    {
      "cell_type": "markdown",
      "source": [
        "**Define the class for this model:**"
      ],
      "metadata": {
        "id": "0Cl0XM6hvOJj"
      }
    },
    {
      "cell_type": "code",
      "source": [
        "class ContentBasedModel(tfrs.Model):\n",
        "\n",
        "    def __init__(self, user_model: tf.keras.layers.Layer, movie_model: tf.keras.layers.Layer, task: tfrs.tasks.Retrieval):\n",
        "        super().__init__()\n",
        "\n",
        "        # Set up user and movie models.\n",
        "        self.user_model = user_model\n",
        "        self.movie_model = movie_model\n",
        "\n",
        "        # Set up a retrieval task.\n",
        "        self.task = task\n",
        "\n",
        "    def compute_loss(self, features: Dict[Text, tf.Tensor], training=False) -> tf.Tensor:\n",
        "        # Compute user and movie embeddings.\n",
        "        user_embeddings = self.user_model(features[\"user_id\"])\n",
        "        movie_embeddings = self.movie_model(features[\"movie_title\"])\n",
        "\n",
        "        # Compute retrieval task loss.\n",
        "        return self.task(user_embeddings, movie_embeddings, compute_metrics=False)"
      ],
      "metadata": {
        "id": "UiTPMliWyhrk"
      },
      "execution_count": 32,
      "outputs": []
    },
    {
      "cell_type": "markdown",
      "source": [
        "**Training and Evaluation for Content-Based model:**"
      ],
      "metadata": {
        "id": "XKU6yxK43aYW"
      }
    },
    {
      "cell_type": "code",
      "source": [
        "# Create Content-Based collaborative filtering model.\n",
        "content_based_model = ContentBasedModel(user_model, movie_model, task)\n",
        "content_based_model.compile(optimizer=tf.keras.optimizers.Adagrad(0.5))\n",
        "\n",
        "# Train the model for 3 epochs.\n",
        "content_based_model.fit(ratings.batch(4096), epochs=3)\n",
        "\n",
        "# Use brute-force search to set up retrieval using the trained representations.\n",
        "content_based_index = tfrs.layers.factorized_top_k.BruteForce(content_based_model.user_model)\n",
        "content_based_index.index_from_dataset(\n",
        "    movies.batch(100).map(lambda title: (title, content_based_model.movie_model(title))))"
      ],
      "metadata": {
        "colab": {
          "base_uri": "https://localhost:8080/"
        },
        "id": "_jBN0qO03nUC",
        "outputId": "ed89e26f-9cf0-4c04-f5cf-2a66f8f38c38"
      },
      "execution_count": 33,
      "outputs": [
        {
          "output_type": "stream",
          "name": "stdout",
          "text": [
            "Epoch 1/3\n",
            "25/25 [==============================] - 14s 503ms/step - factorized_top_k/top_1_categorical_accuracy: 0.0000e+00 - factorized_top_k/top_5_categorical_accuracy: 0.0000e+00 - factorized_top_k/top_10_categorical_accuracy: 0.0000e+00 - factorized_top_k/top_50_categorical_accuracy: 0.0000e+00 - factorized_top_k/top_100_categorical_accuracy: 0.0000e+00 - loss: 44841.8346 - regularization_loss: 0.0000e+00 - total_loss: 44841.8346\n",
            "Epoch 2/3\n",
            "25/25 [==============================] - 11s 416ms/step - factorized_top_k/top_1_categorical_accuracy: 0.0000e+00 - factorized_top_k/top_5_categorical_accuracy: 0.0000e+00 - factorized_top_k/top_10_categorical_accuracy: 0.0000e+00 - factorized_top_k/top_50_categorical_accuracy: 0.0000e+00 - factorized_top_k/top_100_categorical_accuracy: 0.0000e+00 - loss: 31595.9668 - regularization_loss: 0.0000e+00 - total_loss: 31595.9668\n",
            "Epoch 3/3\n",
            "25/25 [==============================] - 12s 469ms/step - factorized_top_k/top_1_categorical_accuracy: 0.0000e+00 - factorized_top_k/top_5_categorical_accuracy: 0.0000e+00 - factorized_top_k/top_10_categorical_accuracy: 0.0000e+00 - factorized_top_k/top_50_categorical_accuracy: 0.0000e+00 - factorized_top_k/top_100_categorical_accuracy: 0.0000e+00 - loss: 30616.5606 - regularization_loss: 0.0000e+00 - total_loss: 30616.5606\n"
          ]
        },
        {
          "output_type": "execute_result",
          "data": {
            "text/plain": [
              "<tensorflow_recommenders.layers.factorized_top_k.BruteForce at 0x7ddae8a97ac0>"
            ]
          },
          "metadata": {},
          "execution_count": 33
        }
      ]
    },
    {
      "cell_type": "markdown",
      "source": [
        "**Get recommendations for user \"42\":**"
      ],
      "metadata": {
        "id": "ALOaR1Rc3o5Z"
      }
    },
    {
      "cell_type": "code",
      "source": [
        "\n",
        "_, content_based_titles = content_based_index(np.array([\"42\"]))\n",
        "\n",
        "# Print Top 5 Recommendations for Content-Based model\n",
        "print(\"Top 5 recommendations for user 42 from Content-Based model:\")\n",
        "for i, title in enumerate(content_based_titles[0, :5], 1):\n",
        "    print(f\"{i}. {title.numpy().decode('utf-8')}\")"
      ],
      "metadata": {
        "colab": {
          "base_uri": "https://localhost:8080/"
        },
        "id": "AisYvPC43452",
        "outputId": "64ed435b-5439-4c51-fc00-0136c387892b"
      },
      "execution_count": 34,
      "outputs": [
        {
          "output_type": "stream",
          "name": "stdout",
          "text": [
            "Top 5 recommendations for user 42 from Content-Based model:\n",
            "1. Rent-a-Kid (1995)\n",
            "2. Just Cause (1995)\n",
            "3. Cobb (1994)\n",
            "4. Nell (1994)\n",
            "5. Murder in the First (1995)\n"
          ]
        }
      ]
    },
    {
      "cell_type": "markdown",
      "source": [
        "**Graphical representation:**"
      ],
      "metadata": {
        "id": "o5MvWywL5SU7"
      }
    },
    {
      "cell_type": "code",
      "source": [
        "import matplotlib.pyplot as plt\n",
        "import numpy as np\n",
        "\n",
        "# Replace movie titles with \"A\", \"B\", \"C\", \"D\", \"E\" for Content-Based model\n",
        "top_5_content_based_titles = [\"A\", \"B\", \"C\", \"D\", \"E\"]\n",
        "\n",
        "# Define ratings or scores for the recommendations (dummy data for illustration)\n",
        "ratings = [4.5, 4.3, 4.2, 4.0, 3.9]\n",
        "\n",
        "# Define colors for each bar\n",
        "colors = ['green', 'blue', 'red', 'purple', 'orange']\n",
        "\n",
        "# Plotting the bar chart with minimized size\n",
        "plt.figure(figsize=(8, 4))  # Adjust the figure size (width, height) as per your preference\n",
        "bars = plt.bar(top_5_content_based_titles, ratings, color=colors, width=0.5)  # Adjust bar width as needed\n",
        "\n",
        "# Adding labels and title\n",
        "plt.xlabel('Movie Titles')\n",
        "plt.ylabel('Ratings')\n",
        "plt.title('Top 5 Movie Recommendations for User 42 (Content-Based Model)')\n",
        "\n",
        "# Customizing legend with colors\n",
        "legend_labels = [plt.Rectangle((0,0),1,1, color=color) for color in colors]\n",
        "plt.legend(legend_labels, top_5_content_based_titles, loc='best')\n",
        "\n",
        "# Display the plot\n",
        "plt.ylim(0, 5)  # Set the y-axis limits from 0 to 5 for ratings scale\n",
        "plt.grid(axis='y', linestyle='--', alpha=0.7)  # Add grid lines for clarity\n",
        "plt.tight_layout()  # Adjust layout to prevent labels from overlapping\n",
        "plt.show()\n",
        "\n",
        "\n",
        "\n",
        "\n"
      ],
      "metadata": {
        "colab": {
          "base_uri": "https://localhost:8080/",
          "height": 407
        },
        "id": "SWDFg9Jv5WwG",
        "outputId": "24c30218-25f7-42a9-a10a-3c29cda4bcf2"
      },
      "execution_count": 39,
      "outputs": [
        {
          "output_type": "display_data",
          "data": {
            "text/plain": [
              "<Figure size 800x400 with 1 Axes>"
            ],
            "image/png": "[encoded data removed]"
          },
          "metadata": {}
        }
      ]
    },
    {
      "cell_type": "markdown",
      "source": [
        "# **RECOMMENDATION SYSTEM 3: Hybrid-based Model**"
      ],
      "metadata": {
        "id": "dPjCqOaYyxd-"
      }
    },
    {
      "cell_type": "markdown",
      "source": [
        "**Define the class for this model:**\n",
        "\n"
      ],
      "metadata": {
        "id": "ZosT-iQ9z_eY"
      }
    },
    {
      "cell_type": "code",
      "source": [
        "# Define the Hybrid Model\n",
        "class HybridModel(tfrs.Model):\n",
        "\n",
        "    def __init__(self, user_model: tf.keras.layers.Layer, movie_model: tf.keras.layers.Layer, task: tfrs.tasks.Retrieval):\n",
        "        super().__init__()\n",
        "\n",
        "        # Set up user and movie models.\n",
        "        self.user_model = user_model\n",
        "        self.movie_model = movie_model\n",
        "\n",
        "        # Set up a retrieval task.\n",
        "        self.task = task\n",
        "\n",
        "    def compute_loss(self, features: Dict[Text, tf.Tensor], training=False) -> tf.Tensor:\n",
        "        # Compute user and movie embeddings.\n",
        "        user_embeddings = self.user_model(features[\"user_id\"])\n",
        "        movie_embeddings = self.movie_model(features[\"movie_title\"])\n",
        "\n",
        "        # Compute retrieval task loss.\n",
        "        return self.task(user_embeddings, movie_embeddings, compute_metrics=False)\n",
        "\n",
        "\n",
        "\n",
        "\n"
      ],
      "metadata": {
        "id": "GKsIdSYI0CLG"
      },
      "execution_count": 71,
      "outputs": []
    },
    {
      "cell_type": "markdown",
      "source": [
        "**Training and Evaluation for Hybrid model:**"
      ],
      "metadata": {
        "id": "96mrVwF50Epi"
      }
    },
    {
      "cell_type": "code",
      "source": [
        "# Create Hybrid collaborative filtering model.\n",
        "hybrid_model = HybridModel(user_model, movie_model, task)\n",
        "hybrid_model.compile(optimizer=tf.keras.optimizers.Adagrad(0.5))\n",
        "\n",
        "# Train the model for 3 epochs.\n",
        "hybrid_model.fit(ratings.batch(4096), epochs=3)\n",
        "\n",
        "# Use brute-force search to set up retrieval using the trained representations.\n",
        "hybrid_index = tfrs.layers.factorized_top_k.BruteForce(hybrid_model.user_model)\n",
        "hybrid_index.index_from_dataset(\n",
        "    movies.batch(100).map(lambda title: (title, hybrid_model.movie_model(title))))\n",
        "\n"
      ],
      "metadata": {
        "id": "WC8On3us0KTG",
        "colab": {
          "base_uri": "https://localhost:8080/"
        },
        "outputId": "a7fe946a-a41d-442b-a866-2fc2088efd8f"
      },
      "execution_count": 72,
      "outputs": [
        {
          "output_type": "stream",
          "name": "stdout",
          "text": [
            "Epoch 1/3\n",
            "25/25 [==============================] - 14s 509ms/step - factorized_top_k/top_1_categorical_accuracy: 0.0000e+00 - factorized_top_k/top_5_categorical_accuracy: 0.0000e+00 - factorized_top_k/top_10_categorical_accuracy: 0.0000e+00 - factorized_top_k/top_50_categorical_accuracy: 0.0000e+00 - factorized_top_k/top_100_categorical_accuracy: 0.0000e+00 - loss: 45257.1725 - regularization_loss: 0.0000e+00 - total_loss: 45257.1725\n",
            "Epoch 2/3\n",
            "25/25 [==============================] - 12s 489ms/step - factorized_top_k/top_1_categorical_accuracy: 0.0000e+00 - factorized_top_k/top_5_categorical_accuracy: 0.0000e+00 - factorized_top_k/top_10_categorical_accuracy: 0.0000e+00 - factorized_top_k/top_50_categorical_accuracy: 0.0000e+00 - factorized_top_k/top_100_categorical_accuracy: 0.0000e+00 - loss: 31636.0890 - regularization_loss: 0.0000e+00 - total_loss: 31636.0890\n",
            "Epoch 3/3\n",
            "25/25 [==============================] - 12s 463ms/step - factorized_top_k/top_1_categorical_accuracy: 0.0000e+00 - factorized_top_k/top_5_categorical_accuracy: 0.0000e+00 - factorized_top_k/top_10_categorical_accuracy: 0.0000e+00 - factorized_top_k/top_50_categorical_accuracy: 0.0000e+00 - factorized_top_k/top_100_categorical_accuracy: 0.0000e+00 - loss: 30648.6324 - regularization_loss: 0.0000e+00 - total_loss: 30648.6324\n"
          ]
        },
        {
          "output_type": "execute_result",
          "data": {
            "text/plain": [
              "<tensorflow_recommenders.layers.factorized_top_k.BruteForce at 0x7ddae83873d0>"
            ]
          },
          "metadata": {},
          "execution_count": 72
        }
      ]
    },
    {
      "cell_type": "markdown",
      "source": [
        "**Get top 5 recommendations:**"
      ],
      "metadata": {
        "id": "XfW2NeNP0O6j"
      }
    },
    {
      "cell_type": "code",
      "source": [
        "# Get recommendations for user \"42\".\n",
        "_, hybrid_titles = hybrid_index(np.array([\"42\"]))\n",
        "\n",
        "# Print Top 5 Recommendations for Hybrid model\n",
        "print(\"Top 5 recommendations for user 42 from Hybrid model:\")\n",
        "for i, title in enumerate(hybrid_titles[0, :5], 1):\n",
        "    print(f\"{i}. {title.numpy().decode('utf-8')}\")\n"
      ],
      "metadata": {
        "id": "4iDlqma70Umn",
        "colab": {
          "base_uri": "https://localhost:8080/"
        },
        "outputId": "320a632d-7f63-47e3-edfa-4d4b1c87ed9d"
      },
      "execution_count": 73,
      "outputs": [
        {
          "output_type": "stream",
          "name": "stdout",
          "text": [
            "Top 5 recommendations for user 42 from Hybrid model:\n",
            "1. Scarlet Letter, The (1995)\n",
            "2. While You Were Sleeping (1995)\n",
            "3. Rent-a-Kid (1995)\n",
            "4. To Wong Foo, Thanks for Everything! Julie Newmar (1995)\n",
            "5. With Honors (1994)\n"
          ]
        }
      ]
    },
    {
      "cell_type": "markdown",
      "source": [
        "**Graphical representation:**"
      ],
      "metadata": {
        "id": "e22TSAc50Y42"
      }
    },
    {
      "cell_type": "code",
      "source": [
        "import matplotlib.pyplot as plt\n",
        "\n",
        "# Assuming top 5 recommendations for the Hybrid model\n",
        "top_5_hybrid_titles = [\"A\", \"B\", \"C\", \"D\", \"E\"]\n",
        "sizes = [20, 15, 25, 10, 30]  # Example sizes (adjust as per preference)\n",
        "\n",
        "# Plotting the pie chart\n",
        "plt.figure(figsize=(8, 8))\n",
        "plt.pie(sizes, labels=top_5_hybrid_titles, autopct='%1.1f%%', startangle=140, colors=plt.cm.Set3.colors)\n",
        "plt.title('Top 5 Movie Recommendations for User 42 (Hybrid Model)')\n",
        "plt.axis('equal')  # Equal aspect ratio ensures that pie is drawn as a circle.\n",
        "plt.show()\n",
        "\n"
      ],
      "metadata": {
        "id": "-tMFuI9O0cEU",
        "colab": {
          "base_uri": "https://localhost:8080/",
          "height": 675
        },
        "outputId": "e94ac192-8c9a-4a0f-8be4-b717a6f4ee81"
      },
      "execution_count": 75,
      "outputs": [
        {
          "output_type": "display_data",
          "data": {
            "text/plain": [
              "<Figure size 800x800 with 1 Axes>"
            ],
            "image/png": "[encoded data removed]"
          },
          "metadata": {}
        }
      ]
    }
  ]
}